{
 "cells": [
  {
   "cell_type": "markdown",
   "metadata": {},
   "source": [
    "### Market Basket Analysis\n",
    "\n",
    "* Fundamental technique used by large retailers to uncover association between items.\n",
    "\n",
    "* relationship between items which are more frequently bought together.\n",
    "\n",
    "### Association Rules : \n",
    "\n",
    "* Main goal is to identify relationship between products or variables in a dataset.\n",
    "\n",
    "* Idea is to determine which product come together.\n",
    "\n",
    "* widely used to analyze retail transaction data.\n",
    "\n",
    "### Metrics\n",
    "\n",
    "* Assume there are 100 customers\n",
    "* 10 bought milk, 8 bought butter, and 6 bought both milk and butter.\n",
    "* ppl who bought milk > ppl who bought butter\n",
    "\n",
    "\n",
    "* Support = P(Milk and Butter) = 6/100 = 0.06\n",
    "* Confidence = support/P(Butter) = 0.06/0.08 = 0.75\n",
    "* Lift = confidence/P(Milk) = 0.75/0.10 = 7.5\n"
   ]
  },
  {
   "cell_type": "markdown",
   "metadata": {},
   "source": [
    "### Example\n",
    "\n",
    "* order 1 : apple, egg, and milk\n",
    "* order 2 : carrot and milk\n",
    "* order 3 : apple, egg, and carrot\n",
    "* order 4 : apple, egg\n",
    "* order 5 : apple, carrot\n"
   ]
  },
  {
   "cell_type": "markdown",
   "metadata": {},
   "source": [
    "#### 1. Support - percentage of orders that contain the item set.\n",
    "\n",
    "* In above example, we've 5 orders and 3 orders (# 1, 3, and 4) contain **apple and egg**.\n",
    "\n",
    "\n",
    "* **support{apple,egg} = 3/5 or 60%**"
   ]
  },
  {
   "cell_type": "markdown",
   "metadata": {},
   "source": [
    "#### 2. Confidence - given 2 items e.g. apple and egg, confidence will measure % of times egg is purchased given apple has been purchased.\n",
    "\n",
    "* **confidence {A->B} : support {A,B} / support {A}**\n",
    "\n",
    "\n",
    "\n",
    "* **Confidence is directional.**\n",
    "\n",
    "\n",
    "\n",
    "* Confidence values lie between 0 and 1. If confidence is 0, it indicates egg was never purchased when apple was purchased. If confidence is 1, it indicates that egg was always purchased when apple was purchased.\n",
    "\n",
    "\n",
    "* **Calculation of confidence {apple -> egg}**\n",
    "    * confidence {apple -> egg} = support {apple,egg} / support {apple}\n",
    "    * (3/5) / (4/5)\n",
    "    * (3/4) or 0.75 or 75%\n",
    "    \n",
    "    \n",
    "* **Calculation of confidence {egg -> apple}**\n",
    "    * confidence {egg -> apple} = support {egg,apple} / support {egg}\n",
    "    * (3/5) / (3/5)\n",
    "    * 1 or 100%"
   ]
  },
  {
   "cell_type": "markdown",
   "metadata": {},
   "source": [
    "#### Lift - Unlike confidence metric, lift is non-directional, so lift {A,B} = lift {B,A}\n",
    "\n",
    "* **Formula**\n",
    "    * lift {A,B} = lift {B,A} = support {A,B} / (support {A} * support {B})\n",
    "    \n",
    "    * **lift {apple, egg} = lift {egg, apple} = support {apple,egg} / ( support {apple} x support {egg} )**\n",
    "    \n",
    "    * lift {apple, egg} = lift {egg, apple} = (3/5) / (4/5 * 3/5) = 5/4 = **1.25**\n",
    "    \n",
    "\n",
    "* Lift = 1 => no relationship between A and B i.e. A & B occur together by chance\n",
    "\n",
    "\n",
    "* Lift > 1 => positive relationship b/w A & B i.e. A & B occur together more often than random\n",
    "\n",
    "\n",
    "* Lift < 1 => negative relationship b/w A & B i.e. A & B occur together less often than random\n"
   ]
  },
  {
   "cell_type": "code",
   "execution_count": null,
   "metadata": {},
   "outputs": [],
   "source": []
  },
  {
   "cell_type": "code",
   "execution_count": null,
   "metadata": {},
   "outputs": [],
   "source": []
  },
  {
   "cell_type": "code",
   "execution_count": null,
   "metadata": {},
   "outputs": [],
   "source": []
  },
  {
   "cell_type": "code",
   "execution_count": null,
   "metadata": {},
   "outputs": [],
   "source": []
  },
  {
   "cell_type": "code",
   "execution_count": null,
   "metadata": {},
   "outputs": [],
   "source": []
  },
  {
   "cell_type": "code",
   "execution_count": null,
   "metadata": {},
   "outputs": [],
   "source": []
  },
  {
   "cell_type": "code",
   "execution_count": null,
   "metadata": {},
   "outputs": [],
   "source": []
  },
  {
   "cell_type": "code",
   "execution_count": null,
   "metadata": {},
   "outputs": [],
   "source": []
  },
  {
   "cell_type": "code",
   "execution_count": null,
   "metadata": {},
   "outputs": [],
   "source": []
  }
 ],
 "metadata": {
  "kernelspec": {
   "display_name": "Python 3",
   "language": "python",
   "name": "python3"
  },
  "language_info": {
   "codemirror_mode": {
    "name": "ipython",
    "version": 3
   },
   "file_extension": ".py",
   "mimetype": "text/x-python",
   "name": "python",
   "nbconvert_exporter": "python",
   "pygments_lexer": "ipython3",
   "version": "3.8.3"
  }
 },
 "nbformat": 4,
 "nbformat_minor": 4
}
